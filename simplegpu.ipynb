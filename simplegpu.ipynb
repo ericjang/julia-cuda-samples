{
 "cells": [
  {
   "cell_type": "markdown",
   "metadata": {},
   "source": [
    "# GPU Matrix Addition\n",
    "\n",
    "This demonstrates the exposed API functions of CUDA.jl (Julia interface for CUDA driver API)\n",
    "\n",
    "Julia v0.3.11"
   ]
  },
  {
   "cell_type": "code",
   "execution_count": 1,
   "metadata": {
    "collapsed": false
   },
   "outputs": [
    {
     "name": "stdout",
     "output_type": "stream",
     "text": [
      "CUDA Driver Initialized\n"
     ]
    }
   ],
   "source": [
    "using CUDA"
   ]
  },
  {
   "cell_type": "code",
   "execution_count": 2,
   "metadata": {
    "collapsed": false
   },
   "outputs": [
    {
     "name": "stdout",
     "output_type": "stream",
     "text": [
      "CUDA driver version: 7000\n"
     ]
    }
   ],
   "source": [
    "println(\"CUDA driver version: $(CUDA.DriverVersion)\")"
   ]
  },
  {
   "cell_type": "code",
   "execution_count": 3,
   "metadata": {
    "collapsed": false
   },
   "outputs": [
    {
     "name": "stdout",
     "output_type": "stream",
     "text": [
      "Devices\n",
      "device[0]: GeForce GTX 970, capability 5.2, total mem = 4095 MB\n",
      "\n"
     ]
    }
   ],
   "source": [
    "println(\"Devices\")\n",
    "list_devices()\n",
    "println()"
   ]
  },
  {
   "cell_type": "code",
   "execution_count": 4,
   "metadata": {
    "collapsed": false
   },
   "outputs": [
    {
     "name": "stdout",
     "output_type": "stream",
     "text": [
      "create context\n"
     ]
    },
    {
     "data": {
      "text/plain": [
       "CuContext(Ptr{Void} @0x0000000008102ab0)"
      ]
     },
     "execution_count": 4,
     "metadata": {},
     "output_type": "execute_result"
    }
   ],
   "source": [
    "dev = CuDevice(0)\n",
    "# create context \n",
    "ctx = create_context(dev)"
   ]
  },
  {
   "cell_type": "code",
   "execution_count": 22,
   "metadata": {
    "collapsed": false,
    "scrolled": true
   },
   "outputs": [
    {
     "name": "stdout",
     "output_type": "stream",
     "text": [
      "Device memory (GB): 4.2942464\n",
      "Device capability: CuCapability(5,2)\n"
     ]
    }
   ],
   "source": [
    "# device API functions\n",
    "println(\"Device memory (GB): $(totalmem(dev)/1e9)\")\n",
    "println(\"Device capability: $(capability(dev))\")"
   ]
  },
  {
   "cell_type": "code",
   "execution_count": 5,
   "metadata": {
    "collapsed": false
   },
   "outputs": [
    {
     "name": "stdout",
     "output_type": "stream",
     "text": [
      "// filename: vadd.cu\n",
      "// simple CUDA kernel to add 2 vectors\n",
      "\n",
      "extern \"C\"\n",
      "{\n",
      "  __global__ void vadd(const float *a, const float *b, float *c)\n",
      "  {\n",
      "    int i= threadIdx.x + blockIdx.x * blockDim.x;\n",
      "    c[i]=a[i]+b[i];\n",
      "  }\n",
      "}\n"
     ]
    }
   ],
   "source": [
    "# compile kernel\n",
    "run(`cat kernels/vadd.cu`)\n",
    "run(`nvcc -ptx kernels/vadd.cu`)"
   ]
  },
  {
   "cell_type": "code",
   "execution_count": 6,
   "metadata": {
    "collapsed": false
   },
   "outputs": [
    {
     "name": "stdout",
     "output_type": "stream",
     "text": [
      "load module from vadd.ptx\n"
     ]
    },
    {
     "data": {
      "text/plain": [
       "CuModule(Ptr{Void} @0x000000000a4c5970)"
      ]
     },
     "execution_count": 6,
     "metadata": {},
     "output_type": "execute_result"
    }
   ],
   "source": [
    "println(\"load module from vadd.ptx\")\n",
    "md = CuModule(\"vadd.ptx\")"
   ]
  },
  {
   "cell_type": "code",
   "execution_count": 7,
   "metadata": {
    "collapsed": false
   },
   "outputs": [
    {
     "name": "stdout",
     "output_type": "stream",
     "text": [
      "get function vadd\n"
     ]
    },
    {
     "data": {
      "text/plain": [
       "CuFunction(Ptr{Void} @0x000000000b0adc70)"
      ]
     },
     "execution_count": 7,
     "metadata": {},
     "output_type": "execute_result"
    }
   ],
   "source": [
    "println(\"get function vadd\")\n",
    "f = CuFunction(md, \"vadd\")"
   ]
  },
  {
   "cell_type": "code",
   "execution_count": 8,
   "metadata": {
    "collapsed": false
   },
   "outputs": [
    {
     "data": {
      "text/plain": [
       "12"
      ]
     },
     "execution_count": 8,
     "metadata": {},
     "output_type": "execute_result"
    }
   ],
   "source": [
    "siz = (3, 4)\n",
    "len = prod(siz)"
   ]
  },
  {
   "cell_type": "code",
   "execution_count": 9,
   "metadata": {
    "collapsed": false
   },
   "outputs": [
    {
     "data": {
      "text/plain": [
       "CuArray{Float32,2}(CuPtr(0x0000000503e40400),(3,4),12)"
      ]
     },
     "execution_count": 9,
     "metadata": {},
     "output_type": "execute_result"
    }
   ],
   "source": [
    "# load array a to GPU\n",
    "a = round(rand(Float32, siz) * 100)\n",
    "ga = CuArray(a)\n",
    "# load array b to GPU\n",
    "b = round(rand(Float32, siz) * 100)\n",
    "gb = CuArray(b)\n",
    "# create array c on GPU\n",
    "gc = CuArray(Float32, siz)"
   ]
  },
  {
   "cell_type": "code",
   "execution_count": 10,
   "metadata": {
    "collapsed": true
   },
   "outputs": [],
   "source": [
    "# launch kernel\n",
    "launch(f, len, 1, (ga, gb, gc))"
   ]
  },
  {
   "cell_type": "code",
   "execution_count": 11,
   "metadata": {
    "collapsed": false
   },
   "outputs": [
    {
     "data": {
      "text/plain": [
       "3x4 Array{Float32,2}:\n",
       " 107.0   91.0  57.0   31.0\n",
       "  49.0  100.0  86.0  121.0\n",
       " 120.0   88.0  98.0   68.0"
      ]
     },
     "execution_count": 11,
     "metadata": {},
     "output_type": "execute_result"
    }
   ],
   "source": [
    "# fetch results from GPU\n",
    "c = to_host(gc)"
   ]
  },
  {
   "cell_type": "code",
   "execution_count": 12,
   "metadata": {
    "collapsed": false
   },
   "outputs": [
    {
     "data": {
      "text/plain": [
       "CuPtr(0x0000000000000000)"
      ]
     },
     "execution_count": 12,
     "metadata": {},
     "output_type": "execute_result"
    }
   ],
   "source": [
    "# free GPU memory\n",
    "free(ga)\n",
    "free(gb)\n",
    "free(gc)"
   ]
  },
  {
   "cell_type": "code",
   "execution_count": 13,
   "metadata": {
    "collapsed": false
   },
   "outputs": [
    {
     "name": "stdout",
     "output_type": "stream",
     "text": [
      "Results:\n",
      "a = \n",
      "Float32[7.0 47.0 3.0 3.0\n",
      "        29.0 59.0 80.0 66.0\n",
      "        47.0 6.0 62.0 13.0]\n",
      "b = \n",
      "Float32[100.0 44.0 54.0 28.0\n",
      "        20.0 41.0 6.0 55.0\n",
      "        73.0 82.0 36.0 55.0]\n",
      "c = \n",
      "Float32[107.0 91.0 57.0 31.0\n",
      "        49.0 100.0 86.0 121.0\n",
      "        120.0 88.0 98.0 68.0]\n"
     ]
    }
   ],
   "source": [
    "println(\"Results:\")\n",
    "println(\"a = \\n$a\")\n",
    "println(\"b = \\n$b\")\n",
    "println(\"c = \\n$c\")"
   ]
  },
  {
   "cell_type": "code",
   "execution_count": 14,
   "metadata": {
    "collapsed": false
   },
   "outputs": [],
   "source": [
    "# unload module - this is sensitive, will crash kernel if unload twice\n",
    "unload(md)\n",
    "# destroy context\n",
    "destroy(ctx)"
   ]
  }
 ],
 "metadata": {
  "kernelspec": {
   "display_name": "Julia 0.3.11",
   "language": "julia",
   "name": "julia-0.3"
  },
  "language_info": {
   "file_extension": ".jl",
   "mimetype": "application/julia",
   "name": "julia",
   "version": "0.3.11"
  }
 },
 "nbformat": 4,
 "nbformat_minor": 0
}
